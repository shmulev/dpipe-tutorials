{
 "cells": [
  {
   "cell_type": "markdown",
   "metadata": {},
   "source": [
    "# Tutorials on Deep Pipe"
   ]
  },
  {
   "cell_type": "markdown",
   "metadata": {},
   "source": [
    "## #0 . Introduction to Deep Pipe"
   ]
  },
  {
   "cell_type": "code",
   "execution_count": 1,
   "metadata": {
    "collapsed": true
   },
   "outputs": [],
   "source": [
    "import numpy as np\n",
    "import pandas as pd\n",
    "import matplotlib.pyplot as plt\n",
    "%matplotlib inline"
   ]
  },
  {
   "cell_type": "code",
   "execution_count": 2,
   "metadata": {
    "collapsed": true
   },
   "outputs": [],
   "source": [
    "# import deep pipe library\n",
    "# how to install: https://github.com/neuro-ml/deep_pipe/blob/master/README.md\n",
    "import dpipe"
   ]
  },
  {
   "cell_type": "markdown",
   "metadata": {},
   "source": [
    "### Class `Brats2017`"
   ]
  },
  {
   "cell_type": "code",
   "execution_count": 3,
   "metadata": {},
   "outputs": [],
   "source": [
    "# import `Brats2017` class\n",
    "from dpipe.dataset.brats import Brats2017"
   ]
  },
  {
   "cell_type": "code",
   "execution_count": 4,
   "metadata": {
    "collapsed": true
   },
   "outputs": [],
   "source": [
    "# use arguments `data_path` and `metadate_rpath` to create an instance of a `Brats2017` class\n",
    "# the examples of the input arguments can be found: \\\n",
    "# https://github.com/neuro-ml/deep_pipe/blob/master/config_examples/assets/data_source/\n",
    "# \n",
    "# we are using IITP machine with stored Brats dataset:\n",
    "# https://github.com/neuro-ml/deep_pipe/blob/master/config_examples/assets/data_source/iitp/brats.config\n",
    "dataset = Brats2017(data_path = \"/nmnt/t01-ssd/brats2017/train\", metadata_rpath = \"metadata.csv\")"
   ]
  },
  {
   "cell_type": "markdown",
   "metadata": {},
   "source": [
    "#### Let's look at the available methods and attributes:"
   ]
  },
  {
   "cell_type": "code",
   "execution_count": 5,
   "metadata": {},
   "outputs": [
    {
     "data": {
      "text/plain": [
       "'/nmnt/t01-ssd/brats2017/train'"
      ]
     },
     "execution_count": 5,
     "metadata": {},
     "output_type": "execute_result"
    }
   ],
   "source": [
    "# path to the data\n",
    "dataset.data_path"
   ]
  },
  {
   "cell_type": "code",
   "execution_count": 6,
   "metadata": {},
   "outputs": [
    {
     "data": {
      "text/html": [
       "<div>\n",
       "<style>\n",
       "    .dataframe thead tr:only-child th {\n",
       "        text-align: right;\n",
       "    }\n",
       "\n",
       "    .dataframe thead th {\n",
       "        text-align: left;\n",
       "    }\n",
       "\n",
       "    .dataframe tbody tr th {\n",
       "        vertical-align: top;\n",
       "    }\n",
       "</style>\n",
       "<table border=\"1\" class=\"dataframe\">\n",
       "  <thead>\n",
       "    <tr style=\"text-align: right;\">\n",
       "      <th></th>\n",
       "      <th>cancer_type</th>\n",
       "      <th>age</th>\n",
       "      <th>survival_days</th>\n",
       "      <th>survival_class</th>\n",
       "      <th>t1</th>\n",
       "      <th>t1ce</th>\n",
       "      <th>t2</th>\n",
       "      <th>flair</th>\n",
       "      <th>segm</th>\n",
       "    </tr>\n",
       "    <tr>\n",
       "      <th>id</th>\n",
       "      <th></th>\n",
       "      <th></th>\n",
       "      <th></th>\n",
       "      <th></th>\n",
       "      <th></th>\n",
       "      <th></th>\n",
       "      <th></th>\n",
       "      <th></th>\n",
       "      <th></th>\n",
       "    </tr>\n",
       "  </thead>\n",
       "  <tbody>\n",
       "    <tr>\n",
       "      <th>Brats17_2013_0_1</th>\n",
       "      <td>LGG</td>\n",
       "      <td>NaN</td>\n",
       "      <td>NaN</td>\n",
       "      <td>NaN</td>\n",
       "      <td>LGG/Brats17_2013_0_1/Brats17_2013_0_1_t1.nii.gz</td>\n",
       "      <td>LGG/Brats17_2013_0_1/Brats17_2013_0_1_t1ce.nii.gz</td>\n",
       "      <td>LGG/Brats17_2013_0_1/Brats17_2013_0_1_t2.nii.gz</td>\n",
       "      <td>LGG/Brats17_2013_0_1/Brats17_2013_0_1_flair.ni...</td>\n",
       "      <td>LGG/Brats17_2013_0_1/Brats17_2013_0_1_seg.nii.gz</td>\n",
       "    </tr>\n",
       "    <tr>\n",
       "      <th>Brats17_2013_10_1</th>\n",
       "      <td>HGG</td>\n",
       "      <td>NaN</td>\n",
       "      <td>NaN</td>\n",
       "      <td>NaN</td>\n",
       "      <td>HGG/Brats17_2013_10_1/Brats17_2013_10_1_t1.nii.gz</td>\n",
       "      <td>HGG/Brats17_2013_10_1/Brats17_2013_10_1_t1ce.n...</td>\n",
       "      <td>HGG/Brats17_2013_10_1/Brats17_2013_10_1_t2.nii.gz</td>\n",
       "      <td>HGG/Brats17_2013_10_1/Brats17_2013_10_1_flair....</td>\n",
       "      <td>HGG/Brats17_2013_10_1/Brats17_2013_10_1_seg.ni...</td>\n",
       "    </tr>\n",
       "    <tr>\n",
       "      <th>Brats17_2013_11_1</th>\n",
       "      <td>HGG</td>\n",
       "      <td>29.12</td>\n",
       "      <td>150.0</td>\n",
       "      <td>0.0</td>\n",
       "      <td>HGG/Brats17_2013_11_1/Brats17_2013_11_1_t1.nii.gz</td>\n",
       "      <td>HGG/Brats17_2013_11_1/Brats17_2013_11_1_t1ce.n...</td>\n",
       "      <td>HGG/Brats17_2013_11_1/Brats17_2013_11_1_t2.nii.gz</td>\n",
       "      <td>HGG/Brats17_2013_11_1/Brats17_2013_11_1_flair....</td>\n",
       "      <td>HGG/Brats17_2013_11_1/Brats17_2013_11_1_seg.ni...</td>\n",
       "    </tr>\n",
       "    <tr>\n",
       "      <th>Brats17_2013_12_1</th>\n",
       "      <td>HGG</td>\n",
       "      <td>NaN</td>\n",
       "      <td>NaN</td>\n",
       "      <td>NaN</td>\n",
       "      <td>HGG/Brats17_2013_12_1/Brats17_2013_12_1_t1.nii.gz</td>\n",
       "      <td>HGG/Brats17_2013_12_1/Brats17_2013_12_1_t1ce.n...</td>\n",
       "      <td>HGG/Brats17_2013_12_1/Brats17_2013_12_1_t2.nii.gz</td>\n",
       "      <td>HGG/Brats17_2013_12_1/Brats17_2013_12_1_flair....</td>\n",
       "      <td>HGG/Brats17_2013_12_1/Brats17_2013_12_1_seg.ni...</td>\n",
       "    </tr>\n",
       "    <tr>\n",
       "      <th>Brats17_2013_13_1</th>\n",
       "      <td>HGG</td>\n",
       "      <td>NaN</td>\n",
       "      <td>NaN</td>\n",
       "      <td>NaN</td>\n",
       "      <td>HGG/Brats17_2013_13_1/Brats17_2013_13_1_t1.nii.gz</td>\n",
       "      <td>HGG/Brats17_2013_13_1/Brats17_2013_13_1_t1ce.n...</td>\n",
       "      <td>HGG/Brats17_2013_13_1/Brats17_2013_13_1_t2.nii.gz</td>\n",
       "      <td>HGG/Brats17_2013_13_1/Brats17_2013_13_1_flair....</td>\n",
       "      <td>HGG/Brats17_2013_13_1/Brats17_2013_13_1_seg.ni...</td>\n",
       "    </tr>\n",
       "  </tbody>\n",
       "</table>\n",
       "</div>"
      ],
      "text/plain": [
       "                  cancer_type    age  survival_days  survival_class  \\\n",
       "id                                                                    \n",
       "Brats17_2013_0_1          LGG    NaN            NaN             NaN   \n",
       "Brats17_2013_10_1         HGG    NaN            NaN             NaN   \n",
       "Brats17_2013_11_1         HGG  29.12          150.0             0.0   \n",
       "Brats17_2013_12_1         HGG    NaN            NaN             NaN   \n",
       "Brats17_2013_13_1         HGG    NaN            NaN             NaN   \n",
       "\n",
       "                                                                  t1  \\\n",
       "id                                                                     \n",
       "Brats17_2013_0_1     LGG/Brats17_2013_0_1/Brats17_2013_0_1_t1.nii.gz   \n",
       "Brats17_2013_10_1  HGG/Brats17_2013_10_1/Brats17_2013_10_1_t1.nii.gz   \n",
       "Brats17_2013_11_1  HGG/Brats17_2013_11_1/Brats17_2013_11_1_t1.nii.gz   \n",
       "Brats17_2013_12_1  HGG/Brats17_2013_12_1/Brats17_2013_12_1_t1.nii.gz   \n",
       "Brats17_2013_13_1  HGG/Brats17_2013_13_1/Brats17_2013_13_1_t1.nii.gz   \n",
       "\n",
       "                                                                t1ce  \\\n",
       "id                                                                     \n",
       "Brats17_2013_0_1   LGG/Brats17_2013_0_1/Brats17_2013_0_1_t1ce.nii.gz   \n",
       "Brats17_2013_10_1  HGG/Brats17_2013_10_1/Brats17_2013_10_1_t1ce.n...   \n",
       "Brats17_2013_11_1  HGG/Brats17_2013_11_1/Brats17_2013_11_1_t1ce.n...   \n",
       "Brats17_2013_12_1  HGG/Brats17_2013_12_1/Brats17_2013_12_1_t1ce.n...   \n",
       "Brats17_2013_13_1  HGG/Brats17_2013_13_1/Brats17_2013_13_1_t1ce.n...   \n",
       "\n",
       "                                                                  t2  \\\n",
       "id                                                                     \n",
       "Brats17_2013_0_1     LGG/Brats17_2013_0_1/Brats17_2013_0_1_t2.nii.gz   \n",
       "Brats17_2013_10_1  HGG/Brats17_2013_10_1/Brats17_2013_10_1_t2.nii.gz   \n",
       "Brats17_2013_11_1  HGG/Brats17_2013_11_1/Brats17_2013_11_1_t2.nii.gz   \n",
       "Brats17_2013_12_1  HGG/Brats17_2013_12_1/Brats17_2013_12_1_t2.nii.gz   \n",
       "Brats17_2013_13_1  HGG/Brats17_2013_13_1/Brats17_2013_13_1_t2.nii.gz   \n",
       "\n",
       "                                                               flair  \\\n",
       "id                                                                     \n",
       "Brats17_2013_0_1   LGG/Brats17_2013_0_1/Brats17_2013_0_1_flair.ni...   \n",
       "Brats17_2013_10_1  HGG/Brats17_2013_10_1/Brats17_2013_10_1_flair....   \n",
       "Brats17_2013_11_1  HGG/Brats17_2013_11_1/Brats17_2013_11_1_flair....   \n",
       "Brats17_2013_12_1  HGG/Brats17_2013_12_1/Brats17_2013_12_1_flair....   \n",
       "Brats17_2013_13_1  HGG/Brats17_2013_13_1/Brats17_2013_13_1_flair....   \n",
       "\n",
       "                                                                segm  \n",
       "id                                                                    \n",
       "Brats17_2013_0_1    LGG/Brats17_2013_0_1/Brats17_2013_0_1_seg.nii.gz  \n",
       "Brats17_2013_10_1  HGG/Brats17_2013_10_1/Brats17_2013_10_1_seg.ni...  \n",
       "Brats17_2013_11_1  HGG/Brats17_2013_11_1/Brats17_2013_11_1_seg.ni...  \n",
       "Brats17_2013_12_1  HGG/Brats17_2013_12_1/Brats17_2013_12_1_seg.ni...  \n",
       "Brats17_2013_13_1  HGG/Brats17_2013_13_1/Brats17_2013_13_1_seg.ni...  "
      ]
     },
     "execution_count": 6,
     "metadata": {},
     "output_type": "execute_result"
    }
   ],
   "source": [
    "# loaded metadata stored in .csv\n",
    "# it has index column `id`, path to images with different modalities `t1`, `t1ce`, ... \\\n",
    "# and also it cointains the column with the path to the target segmented image: `segm`\n",
    "df = dataset.df\n",
    "df.head()"
   ]
  },
  {
   "cell_type": "code",
   "execution_count": 7,
   "metadata": {
    "scrolled": true
   },
   "outputs": [
    {
     "data": {
      "text/plain": [
       "['Brats17_2013_0_1',\n",
       " 'Brats17_2013_10_1',\n",
       " 'Brats17_2013_11_1',\n",
       " 'Brats17_2013_12_1']"
      ]
     },
     "execution_count": 7,
     "metadata": {},
     "output_type": "execute_result"
    }
   ],
   "source": [
    "# get the index column of the metadata\n",
    "dataset.ids[:4]"
   ]
  },
  {
   "cell_type": "code",
   "execution_count": 8,
   "metadata": {},
   "outputs": [
    {
     "data": {
      "text/plain": [
       "['t1', 't1ce', 't2', 'flair']"
      ]
     },
     "execution_count": 8,
     "metadata": {},
     "output_type": "execute_result"
    }
   ],
   "source": [
    "# names of columns with modalities in the dataset\n",
    "dataset.modality_cols"
   ]
  },
  {
   "cell_type": "code",
   "execution_count": 9,
   "metadata": {},
   "outputs": [
    {
     "data": {
      "text/plain": [
       "4"
      ]
     },
     "execution_count": 9,
     "metadata": {},
     "output_type": "execute_result"
    }
   ],
   "source": [
    "# the number of channel (modalities) in the given dataset, returns `len(['t1', 't1ce', 't2', 'flair'])`\n",
    "dataset.n_chans_image"
   ]
  },
  {
   "cell_type": "code",
   "execution_count": 10,
   "metadata": {},
   "outputs": [
    {
     "name": "stdout",
     "output_type": "stream",
     "text": [
      "Shape of the image:  (4, 240, 240, 155)\n"
     ]
    }
   ],
   "source": [
    "# we can load the image by the `load_image(patient_id)` method\n",
    "patient_id = 'Brats17_2013_12_1'\n",
    "img = dataset.load_image(patient_id)\n",
    "print('Shape of the image: ', img.shape)"
   ]
  },
  {
   "cell_type": "code",
   "execution_count": 11,
   "metadata": {
    "scrolled": false
   },
   "outputs": [
    {
     "data": {
      "image/png": "[encoded data removed]",
      "text/plain": [
       "<matplotlib.figure.Figure at 0x7f88736f6198>"
      ]
     },
     "metadata": {},
     "output_type": "display_data"
    }
   ],
   "source": [
    "# and plot 60-th slice of first modality\n",
    "plt.figure(figsize=(4,4))\n",
    "plt.imshow(img[0][..., 60], cmap='gray')\n",
    "plt.show()"
   ]
  },
  {
   "cell_type": "code",
   "execution_count": 12,
   "metadata": {},
   "outputs": [
    {
     "data": {
      "text/plain": [
       "'segm'"
      ]
     },
     "execution_count": 12,
     "metadata": {},
     "output_type": "execute_result"
    }
   ],
   "source": [
    "# target column\n",
    "dataset.target_col"
   ]
  },
  {
   "cell_type": "code",
   "execution_count": 13,
   "metadata": {},
   "outputs": [
    {
     "name": "stdout",
     "output_type": "stream",
     "text": [
      "Shape of the segmented image:  (240, 240, 155)\n"
     ]
    }
   ],
   "source": [
    "# we can load the segmented image by the `load_segm(patient_id)` method\n",
    "segm_img = dataset.load_segm(patient_id)\n",
    "print('Shape of the segmented image: ', segm_img.shape)"
   ]
  },
  {
   "cell_type": "code",
   "execution_count": 14,
   "metadata": {},
   "outputs": [
    {
     "data": {
      "text/plain": [
       "4"
      ]
     },
     "execution_count": 14,
     "metadata": {},
     "output_type": "execute_result"
    }
   ],
   "source": [
    "# the number of diffent segmentation madalities (0 - black)\n",
    "dataset.n_chans_segm"
   ]
  },
  {
   "cell_type": "code",
   "execution_count": 15,
   "metadata": {},
   "outputs": [
    {
     "data": {
      "image/png": "[encoded data removed]",
      "text/plain": [
       "<matplotlib.figure.Figure at 0x7f887365c9e8>"
      ]
     },
     "metadata": {},
     "output_type": "display_data"
    }
   ],
   "source": [
    "# plot 60-th slice of the segmented image\n",
    "plt.figure(figsize=(4,4))\n",
    "plt.imshow(segm_img[..., 60], cmap='gray')\n",
    "plt.show()"
   ]
  },
  {
   "cell_type": "code",
   "execution_count": 16,
   "metadata": {},
   "outputs": [
    {
     "name": "stdout",
     "output_type": "stream",
     "text": [
      "Shape of the multimodal segmented image:  (3, 240, 240, 155)\n"
     ]
    }
   ],
   "source": [
    "# we can load the multimodal segmented image by the `load_msegm(patient_id)` method\n",
    "# the method returns multimodal segmentation of shape [n_chans_msegm, x, y, z]\n",
    "# it can be used to compute dice scores\n",
    "msegm_img = dataset.load_msegm(patient_id)\n",
    "print('Shape of the multimodal segmented image: ', msegm_img.shape)"
   ]
  },
  {
   "cell_type": "code",
   "execution_count": 17,
   "metadata": {},
   "outputs": [
    {
     "data": {
      "text/plain": [
       "3"
      ]
     },
     "execution_count": 17,
     "metadata": {},
     "output_type": "execute_result"
    }
   ],
   "source": [
    "# the number of segmented channels\n",
    "dataset.n_chans_msegm"
   ]
  },
  {
   "cell_type": "code",
   "execution_count": 18,
   "metadata": {},
   "outputs": [
    {
     "data": {
      "text/plain": [
       "array([[False, False, False],\n",
       "       [ True,  True, False],\n",
       "       [ True, False, False],\n",
       "       [ True,  True,  True]], dtype=bool)"
      ]
     },
     "execution_count": 18,
     "metadata": {},
     "output_type": "execute_result"
    }
   ],
   "source": [
    "# we can look at the segm to msegm matrix\n",
    "dataset.segm2msegm_matrix"
   ]
  },
  {
   "cell_type": "code",
   "execution_count": 19,
   "metadata": {},
   "outputs": [
    {
     "name": "stdout",
     "output_type": "stream",
     "text": [
      "Shape:  (3, 240, 240, 155)\n"
     ]
    }
   ],
   "source": [
    "# we can transform segm image (with values 0, 1, 2, etc) into unrolled version (multimodal segm image)\n",
    "# using the method `segm2msegm(img)`\n",
    "print('Shape: ', dataset.segm2msegm(segm_img).shape)"
   ]
  },
  {
   "cell_type": "code",
   "execution_count": null,
   "metadata": {
    "collapsed": true
   },
   "outputs": [],
   "source": []
  }
 ],
 "metadata": {
  "kernelspec": {
   "display_name": "Python 3",
   "language": "python",
   "name": "python3"
  },
  "language_info": {
   "codemirror_mode": {
    "name": "ipython",
    "version": 3
   },
   "file_extension": ".py",
   "mimetype": "text/x-python",
   "name": "python",
   "nbconvert_exporter": "python",
   "pygments_lexer": "ipython3",
   "version": "3.6.3"
  }
 },
 "nbformat": 4,
 "nbformat_minor": 2
}
